{
 "cells": [
  {
   "cell_type": "code",
   "execution_count": 2,
   "metadata": {},
   "outputs": [
    {
     "name": "stdout",
     "output_type": "stream",
     "text": [
      "['Name,Position Title,Department,Employee Annual Salary', '\"AARON,  ELVIA J\",WATER RATE TAKER,WATER MGMNT,$88967.00', '\"AARON,  JEFFERY M\",POLICE OFFICER,POLICE,$80778.00', '\"AARON,  KARINA\",POLICE OFFICER,POLICE,$80778.00', '\"AARON,  KIMBERLEI R\",CHIEF CONTRACT EXPEDITER,GENERAL SERVICES,$84780.00', '\"ABAD JR,  VICENTE M\",CIVIL ENGINEER IV,WATER MGMNT,$104736.00', '\"ABARCA,  ANABEL\",ASST TO THE ALDERMAN,CITY COUNCIL,$70764.00', '\"ABARCA,  EMMANUEL\",GENERAL LABORER - DSS,STREETS & SAN,$40560.00', '\"ABBATACOLA,  ROBERT J\",ELECTRICAL MECHANIC,AVIATION,$91520.00', '\"ABBATEMARCO,  JAMES J\",FIRE ENGINEER,FIRE,$90456.00', '\"ABBATE,  TERRY M\",POLICE OFFICER,POLICE,$86520.00', '\"ABBOTT,  BETTY L\",FOSTER GRANDPARENT,FAMILY & SUPPORT,$2756.00', '\"ABBOTT,  LYNISE M\",CLERK III,POLICE,$43920.00', '\"ABBRUZZESE,  WILLIAM J\",INVESTIGATOR - IPRA II,IPRA,$72468.00', '\"ABDALLAH,  ZAID\",POLICE OFFICER,POLICE,$69684.00', '\"ABDELHADI,  ABDALMAHD\",POLICE OFFICER,POLICE,$80778.00', '\"ABDELLATIF,  AREF R\",FIREFIGHTER (PER ARBITRATORS AWARD)-PARAMEDIC,FIRE,$98244.00', '\"ABDELMAJEID,  AZIZ\",POLICE OFFICER,POLICE,$80778.00', '\"ABDOLLAHZADEH,  ALI\",FIREFIGHTER/PARAMEDIC,FIRE,$87720.00', '\"ABDUL-KARIM,  MUHAMMAD A\",ENGINEERING TECHNICIAN VI,WATER MGMNT,$106104.00', '\"ABDULLAH,  DANIEL N\",FIREFIGHTER-EMT,FIRE,$91764.00', '\"ABDULLAH,  KEVIN\",LIEUTENANT,FIRE,$110370.00', '\"ABDULLAH,  LAKENYA N\",CROSSING GUARD,POLICE,$16692.00', '\"ABDULLAH,  RASHAD J\",ELECTRICAL MECHANIC-AUTO-POLICE MTR MNT,GENERAL SERVICES,$91520.00', '\"ABDUL-SHAKUR,  TAHIR\",GENERAL LABORER - DSS,STREETS & SAN,$40560.00', '\"ABEJERO,  JASON V\",POLICE OFFICER,POLICE,$86520.00', '\"ABERCROMBIE IV,  EARL S\",PARAMEDIC,FIRE,$54114.00', '\"ABERCROMBIE,  TIMOTHY\",MOTOR TRUCK DRIVER,STREETS & SAN,$71780.80', '\"ABIOYE,  ADEWOLE A\",LIBRARY ASSOCIATE - HOURLY,PUBLIC LIBRARY,$24835.20', '\"ABOUELKHEIR,  HASSAN A\",SENIOR PROGRAMMER/ANALYST,DoIT,$104736.00']\n",
      "\n",
      "\n",
      "[['Name', 'Position Title', 'Department', 'Employee Annual Salary'], ['\"AARON', '  ELVIA J\"', 'WATER RATE TAKER', 'WATER MGMNT', '$88967.00'], ['\"AARON', '  JEFFERY M\"', 'POLICE OFFICER', 'POLICE', '$80778.00'], ['\"AARON', '  KARINA\"', 'POLICE OFFICER', 'POLICE', '$80778.00'], ['\"AARON', '  KIMBERLEI R\"', 'CHIEF CONTRACT EXPEDITER', 'GENERAL SERVICES', '$84780.00'], ['\"ABAD JR', '  VICENTE M\"', 'CIVIL ENGINEER IV', 'WATER MGMNT', '$104736.00'], ['\"ABARCA', '  ANABEL\"', 'ASST TO THE ALDERMAN', 'CITY COUNCIL', '$70764.00'], ['\"ABARCA', '  EMMANUEL\"', 'GENERAL LABORER - DSS', 'STREETS & SAN', '$40560.00'], ['\"ABBATACOLA', '  ROBERT J\"', 'ELECTRICAL MECHANIC', 'AVIATION', '$91520.00'], ['\"ABBATEMARCO', '  JAMES J\"', 'FIRE ENGINEER', 'FIRE', '$90456.00'], ['\"ABBATE', '  TERRY M\"', 'POLICE OFFICER', 'POLICE', '$86520.00'], ['\"ABBOTT', '  BETTY L\"', 'FOSTER GRANDPARENT', 'FAMILY & SUPPORT', '$2756.00'], ['\"ABBOTT', '  LYNISE M\"', 'CLERK III', 'POLICE', '$43920.00'], ['\"ABBRUZZESE', '  WILLIAM J\"', 'INVESTIGATOR - IPRA II', 'IPRA', '$72468.00'], ['\"ABDALLAH', '  ZAID\"', 'POLICE OFFICER', 'POLICE', '$69684.00'], ['\"ABDELHADI', '  ABDALMAHD\"', 'POLICE OFFICER', 'POLICE', '$80778.00'], ['\"ABDELLATIF', '  AREF R\"', 'FIREFIGHTER (PER ARBITRATORS AWARD)-PARAMEDIC', 'FIRE', '$98244.00'], ['\"ABDELMAJEID', '  AZIZ\"', 'POLICE OFFICER', 'POLICE', '$80778.00'], ['\"ABDOLLAHZADEH', '  ALI\"', 'FIREFIGHTER/PARAMEDIC', 'FIRE', '$87720.00'], ['\"ABDUL-KARIM', '  MUHAMMAD A\"', 'ENGINEERING TECHNICIAN VI', 'WATER MGMNT', '$106104.00'], ['\"ABDULLAH', '  DANIEL N\"', 'FIREFIGHTER-EMT', 'FIRE', '$91764.00'], ['\"ABDULLAH', '  KEVIN\"', 'LIEUTENANT', 'FIRE', '$110370.00'], ['\"ABDULLAH', '  LAKENYA N\"', 'CROSSING GUARD', 'POLICE', '$16692.00'], ['\"ABDULLAH', '  RASHAD J\"', 'ELECTRICAL MECHANIC-AUTO-POLICE MTR MNT', 'GENERAL SERVICES', '$91520.00'], ['\"ABDUL-SHAKUR', '  TAHIR\"', 'GENERAL LABORER - DSS', 'STREETS & SAN', '$40560.00'], ['\"ABEJERO', '  JASON V\"', 'POLICE OFFICER', 'POLICE', '$86520.00'], ['\"ABERCROMBIE IV', '  EARL S\"', 'PARAMEDIC', 'FIRE', '$54114.00'], ['\"ABERCROMBIE', '  TIMOTHY\"', 'MOTOR TRUCK DRIVER', 'STREETS & SAN', '$71780.80'], ['\"ABIOYE', '  ADEWOLE A\"', 'LIBRARY ASSOCIATE - HOURLY', 'PUBLIC LIBRARY', '$24835.20'], ['\"ABOUELKHEIR', '  HASSAN A\"', 'SENIOR PROGRAMMER/ANALYST', 'DoIT', '$104736.00']]\n",
      "\n",
      "O TOTAL DE LINHAS É 30\n",
      "O TOTAL DE COLUNAS É 4\n"
     ]
    }
   ],
   "source": [
    "import csv\n",
    "#Abrindo um conjunto de dados em uma só lista ou uma só linha\n",
    "with open('salarios.csv','r') as d:\n",
    "    data = d.read()\n",
    "linhas = data.split(\"\\n\")\n",
    "print(linhas)\n",
    "\n",
    "#Abrindo um conjunto de dados em colunas ou em uma lista composta\n",
    "total_dados = []\n",
    "for x in linhas:\n",
    "    total_dados.append(x.split(\",\"))\n",
    "print()\n",
    "print()\n",
    "print(total_dados)\n",
    "\n",
    "#Contando as linhas de um arquivo\n",
    "cont = 0\n",
    "for x in total_dados:\n",
    "    cont += 1\n",
    "print(f'\\nO TOTAL DE LINHAS É {cont}')\n",
    "\n",
    "#Contando as colunas de um arquivo\n",
    "cont = 0\n",
    "for x in total_dados[0]:\n",
    "    cont += 1\n",
    "print(f'O TOTAL DE COLUNAS É {cont}')\n"
   ]
  }
 ],
 "metadata": {
  "kernelspec": {
   "display_name": "Python 3.10.6 64-bit (windows store)",
   "language": "python",
   "name": "python3"
  },
  "language_info": {
   "codemirror_mode": {
    "name": "ipython",
    "version": 3
   },
   "file_extension": ".py",
   "mimetype": "text/x-python",
   "name": "python",
   "nbconvert_exporter": "python",
   "pygments_lexer": "ipython3",
   "version": "3.10.6"
  },
  "orig_nbformat": 4,
  "vscode": {
   "interpreter": {
    "hash": "577be98b437958d6341fa3e6cea9176db2a21ea397a93e74a3c15425a56fd332"
   }
  }
 },
 "nbformat": 4,
 "nbformat_minor": 2
}
